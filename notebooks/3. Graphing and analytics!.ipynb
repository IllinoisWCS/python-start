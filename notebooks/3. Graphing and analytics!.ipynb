{
 "cells": [
  {
   "cell_type": "code",
   "execution_count": 5,
   "metadata": {
    "collapsed": false
   },
   "outputs": [],
   "source": [
    "'''\n",
    "This time, let's pick our own csv data sets and visualize them!\n",
    "\n",
    "Download the Mashable dataset to get started\n",
    "'''\n",
    "\n",
    "import matplotlib.pyplot as plt\n",
    "import csv\n",
    "\n",
    "'''\n",
    "What I want you to do is take the data and visualize the data in \n",
    "a useful way to show off data and interesting information\n",
    "'''\n",
    "class Graphing:\n",
    "    def __init__(self):\n",
    "        self.headers, self.rows = self.import_data()\n",
    "\n",
    "    '''\n",
    "    You don't have to edit this function unless you want to.\n",
    "    It takes the file and reads each line to store it into\n",
    "    two variables which you can then manipulate and read.\n",
    "    '''\n",
    "    def import_data(self):\n",
    "        result = []\n",
    "\n",
    "        # change this with the location of your data file\n",
    "        file_dir = 'data/OnlineNewsPopularity/OnlineNewsPopularity.csv'\n",
    "        with open(file_dir, 'rb') as f:\n",
    "            reader = csv.reader(f)\n",
    "            headers = reader.next()\n",
    "            for line in reader:\n",
    "                # let's store the line data into a python data structure\n",
    "                result.append(line)\n",
    "\n",
    "            return headers, result\n",
    "\n",
    "    '''\n",
    "    Let's take two variables from the data and graph them. On the x-axis, \n",
    "    use `timedelta` which has older links as larger numbers (submitted longer ago),\n",
    "    and on the y-axis let's graph \n",
    "\n",
    "    Edit the following function to accomplish this\n",
    "    '''\n",
    "\n",
    "    def graph_data(self):\n",
    "\n",
    "        # these indices are which column the data is stored in in the csv file\n",
    "\n",
    "        x_axis_index = 1\n",
    "        y_axis_index = 10\n",
    "\n",
    "        plt.xlabel(self.headers[x_axis_index])\n",
    "        plt.ylabel(self.headers[y_axis_index])\n",
    "\n",
    "\n",
    "        x_axis_values = []\n",
    "        y_axis_values = []\n",
    "\n",
    "        for row in self.rows:\n",
    "            x_axis_values.append(row[x_axis_index])\n",
    "            y_axis_values.append(row[y_axis_index])\n",
    "        plt.plot(x_axis_values, y_axis_values)\n",
    "        plt.show()\n",
    "\n",
    "    '''\n",
    "    Now try to find out the average number of images in a post. This\n",
    "    information could be interesting because maybe there's a certain\n",
    "    number of images that statistically has the most amount\n",
    "    of shares.\n",
    "    '''\n",
    "    def get_average_images(self):\n",
    "        return"
   ]
  },
  {
   "cell_type": "code",
   "execution_count": 6,
   "metadata": {
    "collapsed": false
   },
   "outputs": [],
   "source": [
    "b = Graphing()\n",
    "b.graph_data()"
   ]
  },
  {
   "cell_type": "code",
   "execution_count": null,
   "metadata": {
    "collapsed": true
   },
   "outputs": [],
   "source": []
  }
 ],
 "metadata": {
  "kernelspec": {
   "display_name": "Python 2",
   "language": "python",
   "name": "python2"
  },
  "language_info": {
   "codemirror_mode": {
    "name": "ipython",
    "version": 2
   },
   "file_extension": ".py",
   "mimetype": "text/x-python",
   "name": "python",
   "nbconvert_exporter": "python",
   "pygments_lexer": "ipython2",
   "version": "2.7.12"
  }
 },
 "nbformat": 4,
 "nbformat_minor": 0
}
