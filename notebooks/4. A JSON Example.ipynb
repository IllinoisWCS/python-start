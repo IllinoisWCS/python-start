{
 "cells": [
  {
   "cell_type": "markdown",
   "metadata": {},
   "source": [
    "This is a Jupyter notebook! Some basics to know:\n",
    "\n",
    "1. You can type directly into the page and execute your code by pressing `Shift+Enter`\n",
    "2. There will be test function right below the function you're asked to implement. Don't change these test functions! When you `execute` your code block, you'll immediately know if you wrote your code\n",
    "correctly.\n",
    "3. If your code is incorrect, you can see where it failed in the error message.\n",
    "4. You can choose to run all of your code blocks at once by going up to the menu and selecting Cell > Run All.\n",
    "\n",
    "Good luck and let us know if you have any questions!"
   ]
  },
  {
   "cell_type": "markdown",
   "metadata": {},
   "source": [
    "# A JSON Example"
   ]
  },
  {
   "cell_type": "markdown",
   "metadata": {},
   "source": [
    "Make sure to run this cell first!"
   ]
  },
  {
   "cell_type": "code",
   "execution_count": 4,
   "metadata": {
    "collapsed": true
   },
   "outputs": [],
   "source": [
    "%matplotlib inline\n",
    "import json\n",
    "import matplotlib.pyplot as plt"
   ]
  },
  {
   "cell_type": "markdown",
   "metadata": {},
   "source": [
    "The dataset we are using is a dataset of 200,000+ Jeopardy questions. It is a JSON file that consists of an array of objects.\n",
    "\n",
    "JSON stands for JavaScript Object Notation. It represents a dataset as a combinations of JavaScript objects and arrays. In our case, we have an array of Javascript Objects saved in this JSON file. To be more concrete, our file looks something like this:\n",
    "\n",
    "```\n",
    "[\n",
    "    {\n",
    "        \"category\": \"HISTORY\",\n",
    "        \"air_date\": \"2004-12-31\",\n",
    "        \"question\": \"'For the last 8 years of his life, Galileo was under house arrest for espousing this man's theory'\",\n",
    "        \"value\": \"200\",\n",
    "        \"answer\": \"Copernicus\",\n",
    "        \"round\": \"Jeopardy!\",\n",
    "        \"show_number\": \"4680\"\n",
    "    },\n",
    "    ... << more questions of this same format\n",
    "]\n",
    "```\n",
    "\n",
    "Can you see any similarities? A JavaScript array is inherently no different in terms of structure than a Python array. A JavaScript object looks kind of like how we represented Python dictionaries in the previous exercises. In fact, when we read in the file using the Python libraries, it creates exactly what we expect. We create an array of Python dictionaries. Each dictionary in the array has the same set of keys, each key having its own custom value. So each dictionary now represents a Jeopardy question."
   ]
  },
  {
   "cell_type": "markdown",
   "metadata": {},
   "source": [
    "This function, you don't have to edit. This is just to show you how we use the Python json library to read in the JSON file with the jeopardy questions into a Python array of Python dictionaries."
   ]
  },
  {
   "cell_type": "code",
   "execution_count": 5,
   "metadata": {
    "collapsed": true
   },
   "outputs": [],
   "source": [
    "def import_data():\n",
    "    items = []\n",
    "    file_dir = 'jeopardy.json'\n",
    "    with open(file_dir, 'r') as f:\n",
    "        items = json.load(f)\n",
    "    return items\n",
    "\n",
    "items = import_data()"
   ]
  },
  {
   "cell_type": "markdown",
   "metadata": {},
   "source": [
    "This function shows how to graph a histogram.\n",
    "\n",
    "We can access each item's individual value given a key. The key we're using here as an example is the value of the question (aka, how much money was awarded if answered correctly). We can then graph the distribution of the question values in a histogram.\n",
    "\n",
    "We create an array of all of the values. By specifying the number of bins, we specify how precise each range in the histogram is, from the minimum price to the maximum price.\n",
    "\n",
    "Note: Because value can be easily converted from a string to a valid integer, we can do the histogram. In other words, we can only graph histograms of numeric values.\n",
    "\n",
    "Some things you can try:\n",
    "- You can use this function to do the same histogram graphing for a key like show_number.\n",
    "- You can get a more accurate distribution by getting rid of outliers.\n",
    "- You can specify a date range and only look at the question value distribution. To determine date ranges, you might want to use these docs - https://docs.python.org/2/library/datetime.html"
   ]
  },
  {
   "cell_type": "code",
   "execution_count": 6,
   "metadata": {
    "collapsed": false
   },
   "outputs": [
    {
     "data": {
      "image/png": "[encoded data removed]",
      "text/plain": [
       "<matplotlib.figure.Figure at 0x11e305f10>"
      ]
     },
     "metadata": {},
     "output_type": "display_data"
    }
   ],
   "source": [
    "def graph_data_histogram():\n",
    "    attribute_values = []\n",
    "\n",
    "    for item in items:\n",
    "        value = item['value']\n",
    "        if value is not None:\n",
    "            attribute_values.append(int(value))\n",
    "\n",
    "    plt.hist(attribute_values, bins=100)\n",
    "    plt.title('Distribution of question values')\n",
    "    plt.xlabel('value range')\n",
    "    plt.ylabel('number of questions')\n",
    "    plt.show()\n",
    "\n",
    "graph_data_histogram()"
   ]
  }
 ],
 "metadata": {
  "kernelspec": {
   "display_name": "Python 2",
   "language": "python",
   "name": "python2"
  },
  "language_info": {
   "codemirror_mode": {
    "name": "ipython",
    "version": 2
   },
   "file_extension": ".py",
   "mimetype": "text/x-python",
   "name": "python",
   "nbconvert_exporter": "python",
   "pygments_lexer": "ipython2",
   "version": "2.7.12"
  }
 },
 "nbformat": 4,
 "nbformat_minor": 1
}
