{
 "cells": [
  {
   "cell_type": "code",
   "execution_count": null,
   "metadata": {
    "collapsed": true
   },
   "outputs": [],
   "source": [
    "'''\n",
    "This is a Jupyter notebook! Some basics to know:\n",
    "\n",
    "1. You can type directly into the page and execute your code by pressing `Shift+Enter`\n",
    "2. Each code block as a function that is a `test` function. Don't change this! \n",
    "When you `execute` your code block, you'll immediately know if you wrote your code\n",
    "correctly.\n",
    "3. If your code is incorrect, you can see where it failed in the error message\n",
    "4. Good luck and ask us if you have any questions!\n",
    "'''"
   ]
  },
  {
   "cell_type": "code",
   "execution_count": null,
   "metadata": {
    "collapsed": false
   },
   "outputs": [],
   "source": [
    "'''\n",
    "Let's start off simple. Fill in this function so that it takes two parameters and returns the sum of those two.\n",
    "'''\n",
    "\n",
    "def addition(a, b):\n",
    "    return 0\n",
    "\n",
    "def test_addition():\n",
    "    assert addition(1, 2) == 3\n",
    "    assert addition(-5, -3) == -8\n",
    "    assert addition(2, -5) == -3\n",
    "    print('Addition Success')\n",
    "\n",
    "test_addition()"
   ]
  },
  {
   "cell_type": "code",
   "execution_count": null,
   "metadata": {
    "collapsed": false
   },
   "outputs": [],
   "source": [
    "'''\n",
    "If you got past that, let's create a function for some math formulas you may have learned in the past\n",
    "\n",
    "Pythagorean Theorem, used to calculate the length of a missing side of a right triangle (one with a single 90 degree angle) commonly notated as a^2 + b^2 = c^2\n",
    "\n",
    "Let's try to get a bit fancier by allowing a user to specify which parameters they have so we don't have to create multiple functions depending on which triangle side is missing\n",
    "'''\n",
    "\n",
    "def pythagorean_theorem(a = None, b = None, c = None):\n",
    "    # We should detect and reassign 'missing_side' with which parameter is missing so we can calculate it\n",
    "    missing_side = None\n",
    "\n",
    "    # Do you understand how this works?\n",
    "    # Helpful: elif stands for 'else if'\n",
    "    if a == None and b != None and c != None:\n",
    "        missing_side = 'a'\n",
    "        print 'a is missing'\n",
    "    elif a != None and b == None and c != None:\n",
    "        print 'b is missing'\n",
    "    elif a != None and b != None and c == None:\n",
    "        print 'c is missing'\n",
    "    else:\n",
    "        print 'Your parameters seem wrong... Perhaps you should see what you entered'\n",
    "        return False\n",
    "\n",
    "    # Once we know which side is missing, we should calculate and return the result\n",
    "    # Helpful: the ** operator does exponents, e.g. 2**2 is 4\n",
    "    # P.S. you can use decimal numbers with **\n",
    "    if missing_side == 'a':\n",
    "        return\n",
    "    elif missing_side == 'b':\n",
    "        return\n",
    "    else:\n",
    "        return\n",
    "    \n",
    "\n",
    "def test_pythag():\n",
    "    assert (pythagorean_theorem(b = 4, c = 5) == 3)\n",
    "    assert (pythagorean_theorem(a = 3, c = 5) == 4)\n",
    "    assert (pythagorean_theorem(a = 3, b = 4) == 5)\n",
    "    assert (pythagorean_theorem() == False)\n",
    "    print('Pythagorean Theorem success')\n",
    "test_pythag()\n"
   ]
  },
  {
   "cell_type": "code",
   "execution_count": null,
   "metadata": {
    "collapsed": true
   },
   "outputs": [],
   "source": [
    "\n",
    "'''\n",
    "If you've mastered the Pythagorean theorem, let's try to use some Python data structures to solve some problems\n",
    "\n",
    "Write a function that takes a source string and a target string and returns how many times the target is found in the string.\n",
    "\n",
    "e.g. if the source string is\n",
    "\"There are many times of apples. Granny Smith apples, Fuji apples, and Red Delicious apples are just a few.\"\n",
    "and the target string is \"apples\" , the function would return 4\n",
    "\n",
    "Things to research that may help you:\n",
    "    - str.split() https://docs.python.org/2/library/stdtypes.html#str.split\n",
    "    - for loops\n",
    "'''\n",
    "\n",
    "def string_count(source, target):\n",
    "    return\n",
    "\n",
    "def test_string_count():\n",
    "    assert (string_count('abc acb abc bca cab abc', 'abc') == 3)\n",
    "    assert (string_count('abc acb abc bca cab abc', 'abasdfc') == 0)\n",
    "    print('String count function')\n",
    "test_string_count()"
   ]
  },
  {
   "cell_type": "code",
   "execution_count": null,
   "metadata": {
    "collapsed": true
   },
   "outputs": [],
   "source": [
    "'''\n",
    "Since this tutorial is mainly about data science, let's figure out some ways to calculate some statistics using some built-in methods for Python. The next few functions all take in an array of numbers.\n",
    "\n",
    "Calculate:\n",
    "    - the minimum value of the array\n",
    "    - the maximum value\n",
    "    - the average\n",
    "    - the median\n",
    "\n",
    "Things to research that may help you:\n",
    "    - max(), min()\n",
    "    - sorted()\n",
    "'''\n",
    "\n",
    "def min_value(values):\n",
    "    return\n",
    "\n",
    "def max_value(values):\n",
    "    return\n",
    "\n",
    "def average(values):\n",
    "    return\n",
    "\n",
    "def median(values):\n",
    "    return\n",
    "\n",
    "\n",
    "\n",
    "def test_min_value():\n",
    "    assert (min_value([5, 8, 2, 0, 4, 3, 2]) == 0)\n",
    "    print('Min value function')\n",
    "\n",
    "def test_max_value():\n",
    "    assert (min_value([5, 8, 2, 0, 4, 3, 2]) == 8)\n",
    "    print('Max value function')\n",
    "\n",
    "def test_average_value():\n",
    "    assert (average([4, 0, 2, 3, 0, 3]) == 2)\n",
    "    print('Average function')\n",
    "\n",
    "def test_median_value():\n",
    "    assert (median([5, 8, 2, 0, 4, 3, 2]) == 3)\n",
    "    assert (median([5, 8, 2, 0, 3, 3]) == 3)\n",
    "    print('Median function')\n",
    "\n",
    "test_min_value()\n",
    "test_max_value()\n",
    "test_average_value()\n",
    "test_median_value()\n"
   ]
  }
 ],
 "metadata": {
  "kernelspec": {
   "display_name": "Python 2",
   "language": "python",
   "name": "python2"
  },
  "language_info": {
   "codemirror_mode": {
    "name": "ipython",
    "version": 2
   },
   "file_extension": ".py",
   "mimetype": "text/x-python",
   "name": "python",
   "nbconvert_exporter": "python",
   "pygments_lexer": "ipython2",
   "version": "2.7.12"
  }
 },
 "nbformat": 4,
 "nbformat_minor": 0
}
