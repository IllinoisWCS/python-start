{
 "cells": [
  {
   "cell_type": "markdown",
   "metadata": {},
   "source": [
    "This is a Jupyter notebook! Some basics to know:\n",
    "\n",
    "1. You can type directly into the page and execute your code by pressing `Shift+Enter`\n",
    "2. There will be test function right below the function you're asked to implement. Don't change these test functions! When you `execute` your code block, you'll immediately know if you wrote your code\n",
    "correctly.\n",
    "3. If your code is incorrect, you can see where it failed in the error message.\n",
    "4. You can choose to run all of your code blocks at once by going up to the menu and selecting Cell > Run All.\n",
    "\n",
    "Good luck and let us know if you have any questions!"
   ]
  },
  {
   "cell_type": "markdown",
   "metadata": {},
   "source": [
    "Make sure to run this block first."
   ]
  },
  {
   "cell_type": "code",
   "execution_count": null,
   "metadata": {
    "collapsed": true
   },
   "outputs": [],
   "source": [
    "import csv, sys"
   ]
  },
  {
   "cell_type": "markdown",
   "metadata": {},
   "source": [
    "# Using data structures and files"
   ]
  },
  {
   "cell_type": "markdown",
   "metadata": {},
   "source": [
    "This exercise should get you warmed up on how the data structure `dictionary` can be used\n",
    "\n",
    "Dictionaries, or hashmaps, allow for a way to associate a 'key' with a 'value'. \n",
    "Imagine it like an index of a textbook. You know what topic you want to look \n",
    "for (the key), and you want a list of where it can be found (the value).\n",
    "\n",
    "For this exercise, I want you to take the idea of a book index and check to find\n",
    "what pages two different topics are both on. For example, if our book index looked like:\n",
    "    apples: [2, 5, 64, 66, 70]\n",
    "    oranges: [3, 6, 63, 64, 70]\n",
    "    grapes: [3, 4, 5, 50, 64]\n",
    "\n",
    "and we called the function with 'apples' and 'oranges' as our topics, the function should return\n",
    "[64, 70]\n",
    "If one of the topics queried is not in the book_index, you should return False for now.\n",
    "\n",
    "\n",
    "You may find some help from these docs: https://docs.python.org/3/tutorial/datastructures.html#dictionaries"
   ]
  },
  {
   "cell_type": "code",
   "execution_count": null,
   "metadata": {
    "collapsed": false
   },
   "outputs": [],
   "source": [
    "def dictionary_exercise(book_index, topic1, topic2):\n",
    "    return False\n",
    "\n",
    "# Do not change anything below this line\n",
    "def test_dictionary():\n",
    "    print('Test dictionary function')\n",
    "    book_index = {\n",
    "        'apples': [2, 5, 64, 66, 70],\n",
    "        'oranges': [3, 6, 63, 64, 70],\n",
    "        'grapes': [3, 4, 5, 50, 64]\n",
    "    }\n",
    "    assert (dictionary_exercise(book_index, 'apples', 'oranges') == [64,70])\n",
    "    assert (dictionary_exercise(book_index, 'apples', 'bananas') == [])\n",
    "    \n",
    "test_dictionary()"
   ]
  },
  {
   "cell_type": "markdown",
   "metadata": {},
   "source": [
    ".CSV exercise\n",
    "(CSV files are like raw versions of Excel files, they are tabulated using commas and new lines)\n",
    "\n",
    "One awesome part about Python and many other languages is that it can import in files to \n",
    "parse data and return information.\n",
    "\n",
    "For example, if we had a file that contained your grades history from high school, you \n",
    "would be able to calculate metrics such as your GPA by just specifying what file to use.\n",
    "\n",
    "In this case, I want you to calculate the GPA of files that are in the format\n",
    "[ClassName, Grade]\n",
    "\n",
    "Let's make a few assumptions as well:\n",
    "A-/A/A+ -> 4.0\n",
    "B-/B/B+ -> 3.0\n",
    "C-/C/C+ -> 2.0\n",
    "D-/D/D+ -> 1.0\n",
    "F       -> 0.0\n",
    "\n",
    "\n",
    "Our parameter, csvfile, is a string that has the file name. In order to access its contents, \n",
    "you'll have to open the file to expose a file object. Then, you'll have to create a csv reader \n",
    "object and read the file line-by-line.\n",
    "\n",
    "You may find some help from these docs:\n",
    "- `with open('filename', 'r') as f`\n",
    "- csv reader objects and their available functions - https://docs.python.org/2/library/csv.html"
   ]
  },
  {
   "cell_type": "code",
   "execution_count": null,
   "metadata": {
    "collapsed": false
   },
   "outputs": [],
   "source": [
    "def calculate_GPA_CSV(csvfile):\n",
    "    # This is a default return value for this function. You'll want to change this!\n",
    "    return 0\n",
    "\n",
    "# Do not change anything below this line\n",
    "def test_calculate_GPA_CSV():\n",
    "    print('Test calculate GPA function')\n",
    "    gpa = calculate_GPA_CSV('gpadata.csv')\n",
    "    assert (round(gpa, 2) == 3.52)\n",
    "\n",
    "test_calculate_GPA_CSV()"
   ]
  },
  {
   "cell_type": "markdown",
   "metadata": {
    "collapsed": true
   },
   "source": [
    "In data science, we not only want to know the average, the median, the maximum and the minimum of a set of numbers that we're given, but also, how much those numbers vary.\n",
    "\n",
    "For this exercise, I'll refer to the array of numbers as our data. Each number in that array is called a data point.\n",
    "\n",
    "We use the concept of variance and standard deviation. Variance, intuitively, gives us a sense of how far apart data points are from the average. If variance is small, then we can say that our data is mostly centered around the average and our average actually is very representative of all data points. However, if variance is quite large, then we cannot say that. Our data varies way too much for our average to be representative.\n",
    "\n",
    "You can calculate the variance via 3 steps.\n",
    "1. Find the mean (or average).\n",
    "2. For each data point, calculate its difference from the mean. Square this difference.\n",
    "3. Sum all of the differences you find.\n",
    "\n",
    "Taking the square root of variance yields a measure called standard deviation. Standard deviation is also a measure of how spread out our data points are. It is more often used by statisticians and data scientists to describe the spread of data points.\n",
    "\n",
    "In this case, we give a csvfile that has the following format: [Country, GDP]\n",
    "\n",
    "You'll need to use similar techniques above to read this file and it's values.\n",
    "\n",
    "Using the CSV parsing techniques you've learned above, fill in the functions below that calculate the following statistics about countries and their GDP values\n",
    "- Average GDP\n",
    "- Max GDP and which country has that GDP\n",
    "- Min GDP and which country has that GDP\n",
    "- Variance\n",
    "- Standard Deviation\n",
    "\n",
    "Hints:\n",
    "- More reading on standard deviation and variance: http://www.mathsisfun.com/data/standard-deviation.html\n",
    "- If you're interested in where this data came from: http://data.worldbank.org/indicator/NY.GDP.MKTP.CD\n",
    "- `sys.float_info.max` (sys is already imported for you)\n",
    "- You'll want to store the GDP values you encounter while reading the CSV file into an array to calculate the variance - `array.append`"
   ]
  },
  {
   "cell_type": "code",
   "execution_count": null,
   "metadata": {
    "collapsed": true
   },
   "outputs": [],
   "source": [
    "def calculate_statistics(gdpfile):\n",
    "    # Default values are set for you\n",
    "    average = 0\n",
    "\n",
    "    max_gdp = 0\n",
    "    min_gdp = sys.float_info.max\n",
    "    country_with_highest_gdp = 'USA'\n",
    "    country_with_lowest_gdp = 'USA'\n",
    "\n",
    "    variance = 0\n",
    "    standard_deviation = 0\n",
    "\n",
    "    # Insert your code here!\n",
    "\n",
    "    return average, max_gdp, min_gdp, country_with_highest_gdp, country_with_lowest_gdp, variance, standard_deviation\n",
    "\n",
    "# Do not change anything below this line\n",
    "def test_calculate_statistics():\n",
    "    print('Test calculate statistics function')\n",
    "    average, max_gdp, min_gdp, country_with_highest_gdp, country_with_lowest_gdp, variance, standard_deviation = calculate_statistics('GDPData.csv')\n",
    "    assert (abs(average - 4.452496609*(10 ** 11)) <= 1)\n",
    "    assert (abs(max_gdp - 1.7946996*(10**13)) <= 1)\n",
    "    assert (country_with_highest_gdp == \"United States\")\n",
    "    assert (abs(min_gdp - 145237022.012) <= 1)\n",
    "    assert (country_with_lowest_gdp == \"Kiribati\")\n",
    "    assert (abs(variance - 4.90159965423*(10**26)) <= 4*(10**13))\n",
    "    assert (abs(standard_deviation - 2.21395565769*(10**13)) <= 100)\n",
    "\n",
    "test_calculate_statistics()"
   ]
  }
 ],
 "metadata": {
  "kernelspec": {
   "display_name": "Python 2",
   "language": "python",
   "name": "python2"
  },
  "language_info": {
   "codemirror_mode": {
    "name": "ipython",
    "version": 2
   },
   "file_extension": ".py",
   "mimetype": "text/x-python",
   "name": "python",
   "nbconvert_exporter": "python",
   "pygments_lexer": "ipython2",
   "version": "2.7.12"
  }
 },
 "nbformat": 4,
 "nbformat_minor": 0
}
