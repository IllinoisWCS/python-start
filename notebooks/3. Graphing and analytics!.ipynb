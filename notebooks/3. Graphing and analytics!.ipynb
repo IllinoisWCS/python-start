{
 "cells": [
  {
   "cell_type": "markdown",
   "metadata": {},
   "source": [
    "This is a Jupyter notebook! Some basics to know:\n",
    "\n",
    "1. You can type directly into the page and execute your code by pressing `Shift+Enter`\n",
    "2. There will be test function right below the function you're asked to implement. Don't change these test functions! When you `execute` your code block, you'll immediately know if you wrote your code\n",
    "correctly.\n",
    "3. If your code is incorrect, you can see where it failed in the error message.\n",
    "4. You can choose to run all of your code blocks at once by going up to the menu and selecting Cell > Run All.\n",
    "\n",
    "Good luck and let us know if you have any questions!"
   ]
  },
  {
   "cell_type": "markdown",
   "metadata": {},
   "source": [
    "# Graphing and analytics!"
   ]
  },
  {
   "cell_type": "markdown",
   "metadata": {},
   "source": [
    "Make sure to run this cell first!"
   ]
  },
  {
   "cell_type": "code",
   "execution_count": 1,
   "metadata": {
    "collapsed": true
   },
   "outputs": [],
   "source": [
    "%matplotlib inline\n",
    "import matplotlib.pyplot as plt\n",
    "import csv"
   ]
  },
  {
   "cell_type": "markdown",
   "metadata": {},
   "source": [
    "This time, let's pick our own csv data sets and visualize them!\n",
    "\n",
    "We've downloaded the Mashable dataset to get you started.\n",
    "\n",
    "What we want you to do is take the data and visualize the data in a useful way to show off data and interesting information."
   ]
  },
  {
   "cell_type": "markdown",
   "metadata": {},
   "source": [
    "You don't have to edit this function unless you want to. It takes the file and reads each line to store it into two variables which you can then manipulate and read. Let's run this cell first."
   ]
  },
  {
   "cell_type": "code",
   "execution_count": 2,
   "metadata": {
    "collapsed": true
   },
   "outputs": [],
   "source": [
    "def import_data():\n",
    "    result = []\n",
    "\n",
    "    # change this with the location of your data file\n",
    "    file_dir = 'OnlineNewsPopularity.csv'\n",
    "    with open(file_dir, 'rb') as f:\n",
    "        reader = csv.reader(f)\n",
    "        headers = reader.next()\n",
    "        for line in reader:\n",
    "            # let's store the line data into a python data structure\n",
    "            result.append(line)\n",
    "\n",
    "        return headers, result\n",
    "\n",
    "headers, rows = import_data()"
   ]
  },
  {
   "cell_type": "markdown",
   "metadata": {},
   "source": [
    "This function takes two variables from the data and graphs them. We pass in two indices, both indicate columns of the data as stored in the csv file. Refer to OnlineNewsPopularity.names to see what index maps to what column. Remember, the indices start with 0.\n",
    "\n",
    "If you were to run this function without passing any parameters in, it won't fail! It will simply produce the default graph because of the default values we've set for each index. We've set the default value on the x-axis to be the index for `timedelta` which has larger numbers for older links (because they were submitted longer ago). We've set the default value on the y-axis to be the index for `num_videos`. Feel free to run this function without any parameters and check out the graph."
   ]
  },
  {
   "cell_type": "code",
   "execution_count": 3,
   "metadata": {
    "collapsed": false
   },
   "outputs": [],
   "source": [
    "def graph_data(x=1, y=10):\n",
    "    # these indices are which column the data is stored in in the csv file\n",
    "    x_axis_index = x\n",
    "    y_axis_index = y\n",
    "\n",
    "    plt.xlabel(headers[x_axis_index])\n",
    "    plt.ylabel(headers[y_axis_index])\n",
    "\n",
    "\n",
    "    x_axis_values = []\n",
    "    y_axis_values = []\n",
    "\n",
    "    for row in rows:\n",
    "        x_axis_values.append(row[x_axis_index])\n",
    "        y_axis_values.append(row[y_axis_index])\n",
    "    plt.plot(x_axis_values, y_axis_values)\n",
    "    plt.show()"
   ]
  },
  {
   "cell_type": "markdown",
   "metadata": {},
   "source": [
    "Now try to find out the average number of images in a post. This information could be interesting because maybe there's a certain number of images that statistically has the most amount of shares.\n",
    "\n",
    "You can use graph_data to accomplish this, or if you want to try out other graph types or styles, feel free to copy graph_data over and see what you can come up with.\n",
    "\n",
    "You might want to check out these docs: http://matplotlib.org/api/pyplot_api.html"
   ]
  },
  {
   "cell_type": "code",
   "execution_count": 4,
   "metadata": {
    "collapsed": true
   },
   "outputs": [],
   "source": [
    "def get_average_images(self):\n",
    "    return"
   ]
  },
  {
   "cell_type": "code",
   "execution_count": 5,
   "metadata": {
    "collapsed": false
   },
   "outputs": [
    {
     "data": {
      "image/png": "[encoded data removed]",
      "text/plain": [
       "<matplotlib.figure.Figure at 0x10ff6a650>"
      ]
     },
     "metadata": {},
     "output_type": "display_data"
    }
   ],
   "source": [
    "graph_data()"
   ]
  },
  {
   "cell_type": "markdown",
   "metadata": {},
   "source": [
    "Feel free to create new functions in new code blocks. You can do this by pressing `Shift-Enter` on the last cell in this notebook."
   ]
  },
  {
   "cell_type": "code",
   "execution_count": 6,
   "metadata": {
    "collapsed": true
   },
   "outputs": [],
   "source": [
    "# new functions and tests"
   ]
  }
 ],
 "metadata": {
  "kernelspec": {
   "display_name": "Python 2",
   "language": "python",
   "name": "python2"
  },
  "language_info": {
   "codemirror_mode": {
    "name": "ipython",
    "version": 2
   },
   "file_extension": ".py",
   "mimetype": "text/x-python",
   "name": "python",
   "nbconvert_exporter": "python",
   "pygments_lexer": "ipython2",
   "version": "2.7.12"
  }
 },
 "nbformat": 4,
 "nbformat_minor": 0
}
