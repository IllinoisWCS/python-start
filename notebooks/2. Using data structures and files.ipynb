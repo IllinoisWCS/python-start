{
 "cells": [
  {
   "cell_type": "code",
   "execution_count": 8,
   "metadata": {
    "collapsed": true
   },
   "outputs": [],
   "source": [
    "'''\n",
    "Make sure to run this block first!\n",
    "\n",
    "`Shift+enter`\n",
    "'''\n",
    "\n",
    "import csv"
   ]
  },
  {
   "cell_type": "code",
   "execution_count": 7,
   "metadata": {
    "collapsed": false
   },
   "outputs": [
    {
     "ename": "AssertionError",
     "evalue": "",
     "output_type": "error",
     "traceback": [
      "\u001b[0;31m---------------------------------------------------------------------------\u001b[0m",
      "\u001b[0;31mAssertionError\u001b[0m                            Traceback (most recent call last)",
      "\u001b[0;32m<ipython-input-7-d7e996f15add>\u001b[0m in \u001b[0;36m<module>\u001b[0;34m()\u001b[0m\n\u001b[1;32m     33\u001b[0m     \u001b[0;32mprint\u001b[0m\u001b[0;34m(\u001b[0m\u001b[0;34m'Dictionary Success'\u001b[0m\u001b[0;34m)\u001b[0m\u001b[0;34m\u001b[0m\u001b[0m\n\u001b[1;32m     34\u001b[0m \u001b[0;34m\u001b[0m\u001b[0m\n\u001b[0;32m---> 35\u001b[0;31m \u001b[0mtest_dictionary\u001b[0m\u001b[0;34m(\u001b[0m\u001b[0;34m)\u001b[0m\u001b[0;34m\u001b[0m\u001b[0m\n\u001b[0m",
      "\u001b[0;32m<ipython-input-7-d7e996f15add>\u001b[0m in \u001b[0;36mtest_dictionary\u001b[0;34m()\u001b[0m\n\u001b[1;32m     30\u001b[0m         \u001b[0;34m'grapes'\u001b[0m\u001b[0;34m:\u001b[0m \u001b[0;34m[\u001b[0m\u001b[0;36m3\u001b[0m\u001b[0;34m,\u001b[0m \u001b[0;36m4\u001b[0m\u001b[0;34m,\u001b[0m \u001b[0;36m5\u001b[0m\u001b[0;34m,\u001b[0m \u001b[0;36m50\u001b[0m\u001b[0;34m,\u001b[0m \u001b[0;36m64\u001b[0m\u001b[0;34m]\u001b[0m\u001b[0;34m\u001b[0m\u001b[0m\n\u001b[1;32m     31\u001b[0m     }\n\u001b[0;32m---> 32\u001b[0;31m     \u001b[0;32massert\u001b[0m \u001b[0;34m(\u001b[0m\u001b[0mdictionary_exercise\u001b[0m\u001b[0;34m(\u001b[0m\u001b[0mbook_index\u001b[0m\u001b[0;34m,\u001b[0m \u001b[0;34m'apples'\u001b[0m\u001b[0;34m,\u001b[0m \u001b[0;34m'oranges'\u001b[0m\u001b[0;34m)\u001b[0m \u001b[0;34m==\u001b[0m \u001b[0;34m[\u001b[0m\u001b[0;36m64\u001b[0m\u001b[0;34m,\u001b[0m\u001b[0;36m70\u001b[0m\u001b[0;34m]\u001b[0m\u001b[0;34m)\u001b[0m\u001b[0;34m\u001b[0m\u001b[0m\n\u001b[0m\u001b[1;32m     33\u001b[0m     \u001b[0;32mprint\u001b[0m\u001b[0;34m(\u001b[0m\u001b[0;34m'Dictionary Success'\u001b[0m\u001b[0;34m)\u001b[0m\u001b[0;34m\u001b[0m\u001b[0m\n\u001b[1;32m     34\u001b[0m \u001b[0;34m\u001b[0m\u001b[0m\n",
      "\u001b[0;31mAssertionError\u001b[0m: "
     ]
    }
   ],
   "source": [
    "'''\n",
    "This exercise should get you warmed up on how the data structure `dictionary` can be used\n",
    "\n",
    "Dictionaries, or hashmaps, allow for a way to associate a 'key' with a 'value'. \n",
    "Imagine it like an index of a textbook. You know what topic you want to look \n",
    "for (the key), and you want a list of where it can be found (the value).\n",
    "\n",
    "For this exercise, I want you to take the idea of a book index and check to find\n",
    "what pages two different topics are both on. For example, if our book index looked like:\n",
    "    apples: [2, 5, 64, 66, 70]\n",
    "    oranges: [3, 6, 63, 64, 70]\n",
    "    grapes: [3, 4, 5, 50, 64]\n",
    "\n",
    "and we called the function with 'apples' and 'oranges' as our topics, the function should return\n",
    "[64, 70]\n",
    "If one of the topics queried is not in the book_index, you should return False for now.\n",
    "\n",
    "\n",
    "You may find some help from these docs: https://docs.python.org/3/tutorial/datastructures.html#dictionaries\n",
    "'''\n",
    "\n",
    "def dictionary_exercise(book_index, topic1, topic2):\n",
    "    return False\n",
    "\n",
    "\n",
    "def test_dictionary():\n",
    "    book_index = {\n",
    "        'apples': [2, 5, 64, 66, 70],\n",
    "        'oranges': [3, 6, 63, 64, 70],\n",
    "        'grapes': [3, 4, 5, 50, 64]\n",
    "    }\n",
    "    assert (dictionary_exercise(book_index, 'apples', 'oranges') == [64,70])\n",
    "    print('Dictionary Success')\n",
    "    \n",
    "test_dictionary()"
   ]
  },
  {
   "cell_type": "code",
   "execution_count": 9,
   "metadata": {
    "collapsed": false
   },
   "outputs": [
    {
     "data": {
      "text/plain": [
       "False"
      ]
     },
     "execution_count": 9,
     "metadata": {},
     "output_type": "execute_result"
    }
   ],
   "source": [
    "'''\n",
    ".CSV exercise\n",
    "(CSV files are like raw versions of Excel files, they are tabulated using commas and new lines)\n",
    "\n",
    "One awesome part about Python and many other languages is that it can import in files to \n",
    "parse data and return information.\n",
    "\n",
    "For example, if we had a file that contained your grades history from high school, you \n",
    "would be able to calculate metrics such as your GPA by just specifying what file to use.\n",
    "\n",
    "In this case, I want you to calculate the GPA of files that are in the format\n",
    "[ClassName, Grade]\n",
    "\n",
    "Let's make a few assumptions as well:\n",
    "A-/A/A+ -> 4.0\n",
    "B-/B/B+ -> 3.0\n",
    "C-/C/C+ -> 2.0\n",
    "D-/D/D+ -> 1.0\n",
    "F       -> 0.0\n",
    "\n",
    "\n",
    "Our parameter, csvfile, is a string that has the file name. In order to access its contents, \n",
    "you'll have to open the file to expose a file object. Then, you'll have to create a csv reader \n",
    "object and read the file line-by-line.\n",
    "\n",
    "You may find some help from these docs:\n",
    "    - with open('filename', 'r') as f\n",
    "    - csv reader objects and their available functions - https://docs.python.org/2/library/csv.html\n",
    "'''\n",
    "\n",
    "def calculate_GPA_CSV(csvfile):\n",
    "    result = []\n",
    "\n",
    "    # This function opens and reads information from the file and stores it in a variable called `result`\n",
    "    with open(file_dir, 'rb') as f:\n",
    "        reader = csv.reader(f)\n",
    "        headers = reader.next()\n",
    "        for line in reader:\n",
    "            # let's store the line data into a python data structure\n",
    "            result.append(line)\n",
    "    \n",
    "\n",
    "file_dir = 'grades.csv'\n",
    "calculate_GPA_CSV(file_dir)"
   ]
  },
  {
   "cell_type": "code",
   "execution_count": null,
   "metadata": {
    "collapsed": true
   },
   "outputs": [],
   "source": []
  }
 ],
 "metadata": {
  "kernelspec": {
   "display_name": "Python 2",
   "language": "python",
   "name": "python2"
  },
  "language_info": {
   "codemirror_mode": {
    "name": "ipython",
    "version": 2
   },
   "file_extension": ".py",
   "mimetype": "text/x-python",
   "name": "python",
   "nbconvert_exporter": "python",
   "pygments_lexer": "ipython2",
   "version": "2.7.12"
  }
 },
 "nbformat": 4,
 "nbformat_minor": 0
}
